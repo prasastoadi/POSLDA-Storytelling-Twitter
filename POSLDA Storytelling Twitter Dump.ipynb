{
 "cells": [
  {
   "cell_type": "code",
   "execution_count": 1,
   "metadata": {
    "collapsed": true
   },
   "outputs": [],
   "source": [
    "# create sample documents\n",
    "doc_a = \"Brokoli bagus untuk dimakan. Adikku suka makan brokoli, tetapi ibuku tidak.\"\n",
    "doc_b = \"Ibuku menghabiskan banyak waktu berkeliling melihat adikku latihan bisbol.\"\n",
    "doc_c = \"Beberapa ahli kesehatan menyarankan bahwa mengemudi dapat menyebabkan ketegangan dan tekanan darah meningkat.\"\n",
    "doc_d = \"Saya sering merasakan tekanan untuk tampil seperti saat presentasi di sekolah.\"\n",
    "doc_e = \"Profesional kesehatan mengatakan bahwa brokoli itu baik untuk kesehatan.\"\n",
    "doc_f = \"Teman saya seorang pemain bisbol yang pernah mendapatkan juara.\"\n",
    "doc_g = \"Pemain bisbol yang bernama Flash itu sangat suka memakan brokoli.\"\n",
    "doc_h = \"Sopir yang mengemudi taksi itu mendapatkan tekanan dari penumpangnya.\"\n",
    "doc_i = \"Saat bertanding, olahraga bisbol memberikan ketegangan dan meningkatkan tekanan darah para penonton.\"\n",
    "doc_j = \"Ibuku menyarankan saya untuk memakan brokoli agar tekanan darah terkontrol.\"\n",
    "\n",
    "# compile sample documents into a list\n",
    "docs = [doc_a, doc_b, doc_c, doc_d, doc_e, doc_f, doc_g, doc_h, doc_i, doc_j]"
   ]
  },
  {
   "cell_type": "markdown",
   "metadata": {},
   "source": [
    "# POS Tagging"
   ]
  },
  {
   "cell_type": "code",
   "execution_count": 2,
   "metadata": {
    "collapsed": true
   },
   "outputs": [],
   "source": [
    "import os\n",
    "from hmmtagger.tagger import MainTagger\n",
    "from tokenization import *\n",
    "\n",
    "mt = None"
   ]
  },
  {
   "cell_type": "code",
   "execution_count": 3,
   "metadata": {
    "collapsed": true
   },
   "outputs": [],
   "source": [
    "import pandas as pd\n",
    "import numpy as np"
   ]
  },
  {
   "cell_type": "markdown",
   "metadata": {},
   "source": [
    "## Daftar Tagging\n",
    "Berikut adalah daftar tagging berdasarkan jurnal **HMM Based Part-of-Speech Tagger for Bahasa Indonesia.** (Alfan Farizki & Ayu Purwarianti, 2010)"
   ]
  },
  {
   "cell_type": "code",
   "execution_count": 4,
   "metadata": {},
   "outputs": [
    {
     "data": {
      "text/html": [
       "<div>\n",
       "<style>\n",
       "    .dataframe thead tr:only-child th {\n",
       "        text-align: right;\n",
       "    }\n",
       "\n",
       "    .dataframe thead th {\n",
       "        text-align: left;\n",
       "    }\n",
       "\n",
       "    .dataframe tbody tr th {\n",
       "        vertical-align: top;\n",
       "    }\n",
       "</style>\n",
       "<table border=\"1\" class=\"dataframe\">\n",
       "  <thead>\n",
       "    <tr style=\"text-align: right;\">\n",
       "      <th></th>\n",
       "      <th>POS</th>\n",
       "      <th>POS Name</th>\n",
       "      <th>Example</th>\n",
       "    </tr>\n",
       "  </thead>\n",
       "  <tbody>\n",
       "    <tr>\n",
       "      <th>1</th>\n",
       "      <td>OP</td>\n",
       "      <td>Open Parenthesis</td>\n",
       "      <td>({[</td>\n",
       "    </tr>\n",
       "    <tr>\n",
       "      <th>2</th>\n",
       "      <td>CP</td>\n",
       "      <td>Close Parenthesis</td>\n",
       "      <td>)}]</td>\n",
       "    </tr>\n",
       "    <tr>\n",
       "      <th>3</th>\n",
       "      <td>GM</td>\n",
       "      <td>Slash</td>\n",
       "      <td>/</td>\n",
       "    </tr>\n",
       "    <tr>\n",
       "      <th>4</th>\n",
       "      <td>;</td>\n",
       "      <td>Semicolon</td>\n",
       "      <td>;</td>\n",
       "    </tr>\n",
       "    <tr>\n",
       "      <th>5</th>\n",
       "      <td>:</td>\n",
       "      <td>Colon</td>\n",
       "      <td>:</td>\n",
       "    </tr>\n",
       "    <tr>\n",
       "      <th>6</th>\n",
       "      <td>\"</td>\n",
       "      <td>Quotation</td>\n",
       "      <td>\"</td>\n",
       "    </tr>\n",
       "    <tr>\n",
       "      <th>7</th>\n",
       "      <td>.</td>\n",
       "      <td>Sentence Terminator</td>\n",
       "      <td>.!?</td>\n",
       "    </tr>\n",
       "    <tr>\n",
       "      <th>8</th>\n",
       "      <td>,</td>\n",
       "      <td>Comma</td>\n",
       "      <td>,</td>\n",
       "    </tr>\n",
       "    <tr>\n",
       "      <th>9</th>\n",
       "      <td>-</td>\n",
       "      <td>Dash</td>\n",
       "      <td>-</td>\n",
       "    </tr>\n",
       "    <tr>\n",
       "      <th>10</th>\n",
       "      <td>...</td>\n",
       "      <td>Ellipsis</td>\n",
       "      <td>...</td>\n",
       "    </tr>\n",
       "    <tr>\n",
       "      <th>11</th>\n",
       "      <td>JJ</td>\n",
       "      <td>Adjective</td>\n",
       "      <td>Kaya, Manis</td>\n",
       "    </tr>\n",
       "    <tr>\n",
       "      <th>12</th>\n",
       "      <td>RB</td>\n",
       "      <td>Adverb</td>\n",
       "      <td>Sementara, Nanti</td>\n",
       "    </tr>\n",
       "    <tr>\n",
       "      <th>13</th>\n",
       "      <td>NN</td>\n",
       "      <td>Common Noun</td>\n",
       "      <td>Mobil</td>\n",
       "    </tr>\n",
       "    <tr>\n",
       "      <th>14</th>\n",
       "      <td>NNP</td>\n",
       "      <td>Proper Noun</td>\n",
       "      <td>Bekasi, Indonesia</td>\n",
       "    </tr>\n",
       "    <tr>\n",
       "      <th>15</th>\n",
       "      <td>NNG</td>\n",
       "      <td>Genitive Noun</td>\n",
       "      <td>Bukunya</td>\n",
       "    </tr>\n",
       "    <tr>\n",
       "      <th>16</th>\n",
       "      <td>VBI</td>\n",
       "      <td>Intransitive Verb</td>\n",
       "      <td>Pergi</td>\n",
       "    </tr>\n",
       "    <tr>\n",
       "      <th>17</th>\n",
       "      <td>VBT</td>\n",
       "      <td>Transitive Verb</td>\n",
       "      <td>Membeli</td>\n",
       "    </tr>\n",
       "    <tr>\n",
       "      <th>18</th>\n",
       "      <td>IN</td>\n",
       "      <td>Preposition</td>\n",
       "      <td>Di, Ke, Dari</td>\n",
       "    </tr>\n",
       "    <tr>\n",
       "      <th>19</th>\n",
       "      <td>MD</td>\n",
       "      <td>Modal</td>\n",
       "      <td>Bisa</td>\n",
       "    </tr>\n",
       "    <tr>\n",
       "      <th>20</th>\n",
       "      <td>CC</td>\n",
       "      <td>Coor-Conjuction</td>\n",
       "      <td>Dan, Atau, Tetapi</td>\n",
       "    </tr>\n",
       "    <tr>\n",
       "      <th>21</th>\n",
       "      <td>SC</td>\n",
       "      <td>Subor-Conjunction</td>\n",
       "      <td>Jika, Ketika</td>\n",
       "    </tr>\n",
       "    <tr>\n",
       "      <th>22</th>\n",
       "      <td>DT</td>\n",
       "      <td>Determiner</td>\n",
       "      <td>Para, Ini, Itu</td>\n",
       "    </tr>\n",
       "    <tr>\n",
       "      <th>23</th>\n",
       "      <td>UH</td>\n",
       "      <td>Interjection</td>\n",
       "      <td>Wah, Aduh, Oi</td>\n",
       "    </tr>\n",
       "    <tr>\n",
       "      <th>24</th>\n",
       "      <td>CDO</td>\n",
       "      <td>Ordinal Numerals</td>\n",
       "      <td>Pertama, Kedua</td>\n",
       "    </tr>\n",
       "    <tr>\n",
       "      <th>25</th>\n",
       "      <td>CDC</td>\n",
       "      <td>Collective Numerals</td>\n",
       "      <td>Bertiga</td>\n",
       "    </tr>\n",
       "    <tr>\n",
       "      <th>26</th>\n",
       "      <td>CDP</td>\n",
       "      <td>Primary Numerals</td>\n",
       "      <td>Satu, Dua</td>\n",
       "    </tr>\n",
       "    <tr>\n",
       "      <th>27</th>\n",
       "      <td>CDI</td>\n",
       "      <td>Irregular Numerals</td>\n",
       "      <td>Beberapa</td>\n",
       "    </tr>\n",
       "    <tr>\n",
       "      <th>28</th>\n",
       "      <td>PRP</td>\n",
       "      <td>Personal Pronouns</td>\n",
       "      <td>Saya, Kamu</td>\n",
       "    </tr>\n",
       "    <tr>\n",
       "      <th>29</th>\n",
       "      <td>WP</td>\n",
       "      <td>WH-Pronouns</td>\n",
       "      <td>Apa, Siapa</td>\n",
       "    </tr>\n",
       "    <tr>\n",
       "      <th>30</th>\n",
       "      <td>PRN</td>\n",
       "      <td>Number Pronouns</td>\n",
       "      <td>Kedua-duanya</td>\n",
       "    </tr>\n",
       "    <tr>\n",
       "      <th>31</th>\n",
       "      <td>PRL</td>\n",
       "      <td>Locative Pronouns</td>\n",
       "      <td>Sini, Situ, Sana</td>\n",
       "    </tr>\n",
       "    <tr>\n",
       "      <th>32</th>\n",
       "      <td>NEG</td>\n",
       "      <td>Negation</td>\n",
       "      <td>Bukan, Tidak</td>\n",
       "    </tr>\n",
       "    <tr>\n",
       "      <th>33</th>\n",
       "      <td>SYM</td>\n",
       "      <td>Symbol</td>\n",
       "      <td>@#$%^&amp;</td>\n",
       "    </tr>\n",
       "    <tr>\n",
       "      <th>34</th>\n",
       "      <td>RP</td>\n",
       "      <td>Particles</td>\n",
       "      <td>Pun, Kah</td>\n",
       "    </tr>\n",
       "    <tr>\n",
       "      <th>35</th>\n",
       "      <td>FW</td>\n",
       "      <td>Foreign Word</td>\n",
       "      <td>Foreign, Word</td>\n",
       "    </tr>\n",
       "  </tbody>\n",
       "</table>\n",
       "</div>"
      ],
      "text/plain": [
       "    POS             POS Name            Example\n",
       "1    OP     Open Parenthesis                ({[\n",
       "2    CP    Close Parenthesis                )}]\n",
       "3    GM                Slash                  /\n",
       "4     ;            Semicolon                  ;\n",
       "5     :                Colon                  :\n",
       "6     \"            Quotation                  \"\n",
       "7     .  Sentence Terminator                .!?\n",
       "8     ,                Comma                  ,\n",
       "9     -                 Dash                  -\n",
       "10  ...             Ellipsis                ...\n",
       "11   JJ            Adjective        Kaya, Manis\n",
       "12   RB               Adverb   Sementara, Nanti\n",
       "13   NN          Common Noun              Mobil\n",
       "14  NNP          Proper Noun  Bekasi, Indonesia\n",
       "15  NNG        Genitive Noun            Bukunya\n",
       "16  VBI    Intransitive Verb              Pergi\n",
       "17  VBT      Transitive Verb            Membeli\n",
       "18   IN          Preposition       Di, Ke, Dari\n",
       "19   MD                Modal               Bisa\n",
       "20   CC      Coor-Conjuction  Dan, Atau, Tetapi\n",
       "21   SC    Subor-Conjunction       Jika, Ketika\n",
       "22   DT           Determiner     Para, Ini, Itu\n",
       "23   UH         Interjection      Wah, Aduh, Oi\n",
       "24  CDO     Ordinal Numerals     Pertama, Kedua\n",
       "25  CDC  Collective Numerals            Bertiga\n",
       "26  CDP     Primary Numerals          Satu, Dua\n",
       "27  CDI   Irregular Numerals           Beberapa\n",
       "28  PRP    Personal Pronouns         Saya, Kamu\n",
       "29   WP          WH-Pronouns         Apa, Siapa\n",
       "30  PRN      Number Pronouns       Kedua-duanya\n",
       "31  PRL    Locative Pronouns   Sini, Situ, Sana\n",
       "32  NEG             Negation       Bukan, Tidak\n",
       "33  SYM               Symbol             @#$%^&\n",
       "34   RP            Particles           Pun, Kah\n",
       "35   FW         Foreign Word      Foreign, Word"
      ]
     },
     "execution_count": 4,
     "metadata": {},
     "output_type": "execute_result"
    }
   ],
   "source": [
    "# daftar tagging\n",
    "df = pd.DataFrame({'POS' : ['OP', 'CP', 'GM', ';', ':', \n",
    "                            '\"', '.', ',', '-', '...', \n",
    "                            'JJ', 'RB', 'NN', 'NNP','NNG', \n",
    "                            'VBI', 'VBT', 'IN', 'MD', 'CC', \n",
    "                            'SC', 'DT', 'UH', 'CDO', 'CDC', \n",
    "                            'CDP', 'CDI', 'PRP', 'WP', 'PRN', \n",
    "                            'PRL', 'NEG', 'SYM', 'RP', 'FW'],\n",
    "                   'POS Name' : ['Open Parenthesis', 'Close Parenthesis', 'Slash', 'Semicolon', 'Colon', \n",
    "                                 'Quotation', 'Sentence Terminator', 'Comma', 'Dash', 'Ellipsis', \n",
    "                                 'Adjective', 'Adverb', 'Common Noun', 'Proper Noun', 'Genitive Noun', \n",
    "                                 'Intransitive Verb', 'Transitive Verb', 'Preposition', 'Modal', 'Coor-Conjuction', \n",
    "                                 'Subor-Conjunction', 'Determiner', 'Interjection', 'Ordinal Numerals', 'Collective Numerals', \n",
    "                                 'Primary Numerals', 'Irregular Numerals', 'Personal Pronouns', 'WH-Pronouns', 'Number Pronouns',\n",
    "                                 'Locative Pronouns', 'Negation', 'Symbol', 'Particles', 'Foreign Word'],\n",
    "                   'Example' : ['({[', ')}]', '/', ';', ':',\n",
    "                                '\"', '.!?', ',', '-', '...',\n",
    "                                'Kaya, Manis', 'Sementara, Nanti', 'Mobil', 'Bekasi, Indonesia', 'Bukunya',\n",
    "                                'Pergi', 'Membeli', 'Di, Ke, Dari', 'Bisa', 'Dan, Atau, Tetapi',\n",
    "                                'Jika, Ketika', 'Para, Ini, Itu', 'Wah, Aduh, Oi', 'Pertama, Kedua', 'Bertiga',\n",
    "                                'Satu, Dua', 'Beberapa', 'Saya, Kamu', 'Apa, Siapa', 'Kedua-duanya',\n",
    "                                'Sini, Situ, Sana', 'Bukan, Tidak', '@#$%^&', 'Pun, Kah', 'Foreign, Word']})\n",
    "\n",
    "df = df[['POS', 'POS Name', 'Example']]\n",
    "df.index = np.arange(1, len(df) + 1)\n",
    "df"
   ]
  },
  {
   "cell_type": "markdown",
   "metadata": {},
   "source": [
    "## Pembagian Tagging\n",
    "Dibagi menjadi 2 yaitu **Class Content** dan **Class Function**.\n",
    "\n",
    "**Class Content:**\n",
    "1. JJ = Adjective\n",
    "2. NN = Common Noun\n",
    "3. NNP = Proper Noun\n",
    "4. NNG = Genitive Noun\n",
    "5. VBI = Intransitive Verb\n",
    "6. VBT = Transitive Verb\n",
    "7. FW = Foreign Word\n",
    "\n",
    "\n",
    "**Class Function:**\n",
    "1. OP = Open Parenthesis\n",
    "2. CP = Close Parenthesis\n",
    "3. GM = Slash\n",
    "4. ; = Semicolon\n",
    "5. : = Colon\n",
    "6. \" = Quotation\n",
    "7. . = Sentence Terminator\n",
    "8. , = Comma\n",
    "9. '-' = Dash\n",
    "10. ... = Ellipsis\n",
    "11. RB = Adverb\n",
    "12. IN = Preposition\n",
    "13. MD = Modal\n",
    "14. CC = Coor-Conjunction\n",
    "15. SC = Subor-Conjunction\n",
    "16. DT = Determiner\n",
    "17. UH = Interjection\n",
    "18. CDO = Ordinal Numerals\n",
    "19. CDC = Collective Numerals\n",
    "20. CDP = Primary Numerals\n",
    "21. CDI = Irregular Numerals\n",
    "22. PRP = Personal Pronouns\n",
    "23. WP = WH-Pronouns\n",
    "24. PRN = Number Pronouns\n",
    "25. PRL = Locative Pronouns\n",
    "26. NEG = Negation\n",
    "27. SYM = Symbol\n",
    "28. RP = Particles"
   ]
  },
  {
   "cell_type": "code",
   "execution_count": 5,
   "metadata": {
    "collapsed": true
   },
   "outputs": [],
   "source": [
    "Ccon = ['JJ', 'NN','NNP', 'NNG', 'VBI', 'VBT', 'FW']\n",
    "Cfunc = ['OP', 'CP', 'GM', ';', ':', '\"', '.', \n",
    "         ',', '-', '...', 'RB', 'IN', 'MD', 'CC',\n",
    "         'SC', 'DT', 'UH', 'CDO', 'CDC', 'CDP', 'CDI',\n",
    "         'PRP', 'WP', 'PRN', 'PRL', 'NEG', 'SYM', 'RP']"
   ]
  },
  {
   "cell_type": "code",
   "execution_count": 6,
   "metadata": {
    "collapsed": true
   },
   "outputs": [],
   "source": [
    "from collections import defaultdict"
   ]
  },
  {
   "cell_type": "code",
   "execution_count": 7,
   "metadata": {
    "collapsed": true
   },
   "outputs": [],
   "source": [
    "Kelas = {\"Ccon\": {},\n",
    "         \"Cfunc\": defaultdict(list)\n",
    "        }"
   ]
  },
  {
   "cell_type": "code",
   "execution_count": 8,
   "metadata": {},
   "outputs": [
    {
     "data": {
      "text/plain": [
       "collections.defaultdict"
      ]
     },
     "execution_count": 8,
     "metadata": {},
     "output_type": "execute_result"
    }
   ],
   "source": [
    "type(Kelas[\"Cfunc\"])"
   ]
  },
  {
   "cell_type": "code",
   "execution_count": 9,
   "metadata": {
    "collapsed": true
   },
   "outputs": [],
   "source": [
    "\"\"\"\n",
    "Parameters:\n",
    "    String fileLexicon\n",
    "    String fileNGram\n",
    "    int NGramType = 0\n",
    "    int maxAffixLength = 3\n",
    "    int Treshold = 3\n",
    "    int minWordFreq = 0\n",
    "    int modeAffixTree = 0\n",
    "    boolean debug = False\n",
    "    double LambdaBigram = 0.2\n",
    "    int TwoPhaseType = 0\n",
    "    double beamFactor = 500.0\n",
    "    int useLexicon = 0\n",
    "\"\"\"\n",
    "\n",
    "def init_tag():\n",
    "    global mt\n",
    "    try:\n",
    "        if mt is None:\n",
    "            mt = MainTagger(\"resource/Lexicon.trn\", \"resource/Ngram.trn\", 0, 3, 3, 0, 0, False, 0.2, 0, 500.0, 1)\n",
    "    except:\n",
    "        print(\"Error Exception\")"
   ]
  },
  {
   "cell_type": "markdown",
   "metadata": {},
   "source": [
    "## Proses Tagging"
   ]
  },
  {
   "cell_type": "code",
   "execution_count": 10,
   "metadata": {},
   "outputs": [
    {
     "name": "stdout",
     "output_type": "stream",
     "text": [
      "['Brokoli/NN', 'bagus/NN', 'untuk/IN', 'dimakan/VBT', './.', 'Adikku/NN', 'suka/VBI', 'makan/VBT', 'brokoli/NN', ',/,', 'tetapi/CC', 'ibuku/NN', 'tidak/NEG', './.']\n",
      "['Ibuku/NN', 'menghabiskan/VBT', 'banyak/JJ', 'waktu/NN', 'berkeliling/NN', 'melihat/VBT', 'adikku/NNP', 'latihan/NN', 'bisbol/NN', './.']\n",
      "['Beberapa/CDI', 'ahli/NN', 'kesehatan/NN', 'menyarankan/VBT', 'bahwa/SC', 'mengemudi/VBT', 'dapat/MD', 'menyebabkan/VBT', 'ketegangan/NN', 'dan/CC', 'tekanan/NN', 'darah/NN', 'meningkat/VBI', './.']\n",
      "['Saya/PRP', 'sering/JJ', 'merasakan/VBT', 'tekanan/NN', 'untuk/IN', 'tampil/NN', 'seperti/IN', 'saat/NN', 'presentasi/NN', 'di/IN', 'sekolah/NN', './.']\n",
      "['Profesional/NNP', 'kesehatan/NN', 'mengatakan/VBI', 'bahwa/SC', 'brokoli/NN', 'itu/DT', 'baik/JJ', 'untuk/IN', 'kesehatan/NN', './.']\n",
      "['Teman/NN', 'saya/PRP', 'seorang/NN', 'pemain/NN', 'bisbol/NN', 'yang/SC', 'pernah/NN', 'mendapatkan/VBT', 'juara/NN', './.']\n",
      "['Pemain/NN', 'bisbol/NN', 'yang/SC', 'bernama/VBT', 'Flash/NN', 'itu/DT', 'sangat/RB', 'suka/VBI', 'memakan/VBT', 'brokoli/NN', './.']\n",
      "['Sopir/NNP', 'yang/SC', 'mengemudi/VBT', 'taksi/NEG', 'itu/DT', 'mendapatkan/VBT', 'tekanan/NN', 'dari/IN', 'penumpangnya/NN', './.']\n",
      "['Saat/SC', 'bertanding/VBI', ',/,', 'olahraga/NN', 'bisbol/MD', 'memberikan/VBT', 'ketegangan/NN', 'dan/CC', 'meningkatkan/VBT', 'tekanan/NN', 'darah/NN', 'para/DT', 'penonton/NN', './.']\n",
      "['Ibuku/NN', 'menyarankan/VBT', 'saya/PRP', 'untuk/IN', 'memakan/VBT', 'brokoli/NN', 'agar/IN', 'tekanan/NN', 'darah/NN', 'terkontrol/JJ', './.']\n"
     ]
    }
   ],
   "source": [
    "# tokenisasi dan tagging\n",
    "tagged_doc = []\n",
    "for doc in docs:\n",
    "    lines = doc.strip().split(\"\\n\")\n",
    "    try:\n",
    "        init_tag()\n",
    "        for l in lines:\n",
    "            if len(l) == 0: continue\n",
    "            out = sentence_extraction(cleaning(l))\n",
    "            join_token = []\n",
    "            for o in out:\n",
    "                strtag = \" \".join(tokenisasi_kalimat(o)).strip()\n",
    "                join_token.extend(mt.taggingStr(strtag))\n",
    "            tagged_doc += [join_token]\n",
    "    except:\n",
    "        print (\"Error Exception\")\n",
    "\n",
    "for _ in tagged_doc:\n",
    "    print (_)"
   ]
  },
  {
   "cell_type": "markdown",
   "metadata": {},
   "source": [
    "## Pemilihan tagging buat cari topik"
   ]
  },
  {
   "cell_type": "code",
   "execution_count": 11,
   "metadata": {
    "collapsed": true
   },
   "outputs": [],
   "source": [
    "import nltk.tag"
   ]
  },
  {
   "cell_type": "code",
   "execution_count": 12,
   "metadata": {},
   "outputs": [
    {
     "name": "stdout",
     "output_type": "stream",
     "text": [
      "['Brokoli/NN', 'bagus/NN', 'dimakan/VBT', 'Adikku/NN', 'suka/VBI', 'makan/VBT', 'brokoli/NN', 'ibuku/NN']\n",
      "['Ibuku/NN', 'menghabiskan/VBT', 'banyak/JJ', 'waktu/NN', 'berkeliling/NN', 'melihat/VBT', 'adikku/NNP', 'latihan/NN', 'bisbol/NN']\n",
      "['ahli/NN', 'kesehatan/NN', 'menyarankan/VBT', 'mengemudi/VBT', 'menyebabkan/VBT', 'ketegangan/NN', 'tekanan/NN', 'darah/NN', 'meningkat/VBI']\n",
      "['sering/JJ', 'merasakan/VBT', 'tekanan/NN', 'tampil/NN', 'saat/NN', 'presentasi/NN', 'sekolah/NN']\n",
      "['Profesional/NNP', 'kesehatan/NN', 'mengatakan/VBI', 'brokoli/NN', 'baik/JJ', 'kesehatan/NN']\n",
      "['Teman/NN', 'seorang/NN', 'pemain/NN', 'bisbol/NN', 'pernah/NN', 'mendapatkan/VBT', 'juara/NN']\n",
      "['Pemain/NN', 'bisbol/NN', 'bernama/VBT', 'Flash/NN', 'suka/VBI', 'memakan/VBT', 'brokoli/NN']\n",
      "['Sopir/NNP', 'mengemudi/VBT', 'mendapatkan/VBT', 'tekanan/NN', 'penumpangnya/NN']\n",
      "['bertanding/VBI', 'olahraga/NN', 'memberikan/VBT', 'ketegangan/NN', 'meningkatkan/VBT', 'tekanan/NN', 'darah/NN', 'penonton/NN']\n",
      "['Ibuku/NN', 'menyarankan/VBT', 'memakan/VBT', 'brokoli/NN', 'tekanan/NN', 'darah/NN', 'terkontrol/JJ']\n",
      "\n",
      "Tagger\n",
      "{'Ccon': {}, 'Cfunc': defaultdict(<class 'list'>, {'IN': ['agar', 'seperti', 'untuk', 'di', 'dari'], '.': ['.'], ',': [','], 'CC': ['tetapi', 'dan'], 'NEG': ['taksi', 'tidak'], 'CDI': ['Beberapa'], 'SC': ['Saat', 'bahwa', 'yang'], 'MD': ['dapat', 'bisbol'], 'PRP': ['Saya', 'saya'], 'DT': ['itu', 'para'], 'RB': ['sangat']})}\n"
     ]
    }
   ],
   "source": [
    "doc_con = []\n",
    "for tagged in tagged_doc:\n",
    "    con = []\n",
    "    for word in tagged:\n",
    "        w = word.split(\"/\", 1)[0]\n",
    "        tagger = word.split(\"/\", 1)[1]\n",
    "        if tagger in Ccon:\n",
    "            con += [\"\".join(word)]\n",
    "        elif tagger in Cfunc:\n",
    "            Kelas[\"Cfunc\"][tagger].append(w)\n",
    "    doc_con += [con]\n",
    "\n",
    "for _ in doc_con:\n",
    "    print(_)\n",
    "#     for w in _:\n",
    "#         print(nltk.tag.str2tuple(w))\n",
    "    \n",
    "print()\n",
    "print(\"Tagger\")\n",
    "for key in Kelas[\"Cfunc\"]:\n",
    "    Kelas[\"Cfunc\"][key] = list(set(Kelas[\"Cfunc\"][key]))\n",
    "\n",
    "print(Kelas)"
   ]
  },
  {
   "cell_type": "markdown",
   "metadata": {},
   "source": [
    "## Doc con"
   ]
  },
  {
   "cell_type": "code",
   "execution_count": 13,
   "metadata": {},
   "outputs": [
    {
     "name": "stdout",
     "output_type": "stream",
     "text": [
      "['Brokoli', 'bagus', 'dimakan', 'Adikku', 'suka', 'makan', 'brokoli', 'ibuku']\n",
      "['Ibuku', 'menghabiskan', 'banyak', 'waktu', 'berkeliling', 'melihat', 'adikku', 'latihan', 'bisbol']\n",
      "['ahli', 'kesehatan', 'menyarankan', 'mengemudi', 'menyebabkan', 'ketegangan', 'tekanan', 'darah', 'meningkat']\n",
      "['sering', 'merasakan', 'tekanan', 'tampil', 'saat', 'presentasi', 'sekolah']\n",
      "['Profesional', 'kesehatan', 'mengatakan', 'brokoli', 'baik', 'kesehatan']\n",
      "['Teman', 'seorang', 'pemain', 'bisbol', 'pernah', 'mendapatkan', 'juara']\n",
      "['Pemain', 'bisbol', 'bernama', 'Flash', 'suka', 'memakan', 'brokoli']\n",
      "['Sopir', 'mengemudi', 'mendapatkan', 'tekanan', 'penumpangnya']\n",
      "['bertanding', 'olahraga', 'memberikan', 'ketegangan', 'meningkatkan', 'tekanan', 'darah', 'penonton']\n",
      "['Ibuku', 'menyarankan', 'memakan', 'brokoli', 'tekanan', 'darah', 'terkontrol']\n"
     ]
    }
   ],
   "source": [
    "documents = []\n",
    "for con in doc_con:\n",
    "    co = []\n",
    "    for c in con:\n",
    "        result = c.split('/', 1)[0]\n",
    "        co.append(result)\n",
    "    documents += [co]\n",
    "    \n",
    "for _ in documents:\n",
    "    print (_)"
   ]
  },
  {
   "cell_type": "markdown",
   "metadata": {},
   "source": [
    "## Doc tuples"
   ]
  },
  {
   "cell_type": "code",
   "execution_count": 14,
   "metadata": {},
   "outputs": [
    {
     "name": "stdout",
     "output_type": "stream",
     "text": [
      "[('Brokoli', 'NN'), ('bagus', 'NN'), ('dimakan', 'VBT'), ('Adikku', 'NN'), ('suka', 'VBI'), ('makan', 'VBT'), ('brokoli', 'NN'), ('ibuku', 'NN')]\n",
      "[('Ibuku', 'NN'), ('menghabiskan', 'VBT'), ('banyak', 'JJ'), ('waktu', 'NN'), ('berkeliling', 'NN'), ('melihat', 'VBT'), ('adikku', 'NNP'), ('latihan', 'NN'), ('bisbol', 'NN')]\n",
      "[('ahli', 'NN'), ('kesehatan', 'NN'), ('menyarankan', 'VBT'), ('mengemudi', 'VBT'), ('menyebabkan', 'VBT'), ('ketegangan', 'NN'), ('tekanan', 'NN'), ('darah', 'NN'), ('meningkat', 'VBI')]\n",
      "[('sering', 'JJ'), ('merasakan', 'VBT'), ('tekanan', 'NN'), ('tampil', 'NN'), ('saat', 'NN'), ('presentasi', 'NN'), ('sekolah', 'NN')]\n",
      "[('Profesional', 'NNP'), ('kesehatan', 'NN'), ('mengatakan', 'VBI'), ('brokoli', 'NN'), ('baik', 'JJ'), ('kesehatan', 'NN')]\n",
      "[('Teman', 'NN'), ('seorang', 'NN'), ('pemain', 'NN'), ('bisbol', 'NN'), ('pernah', 'NN'), ('mendapatkan', 'VBT'), ('juara', 'NN')]\n",
      "[('Pemain', 'NN'), ('bisbol', 'NN'), ('bernama', 'VBT'), ('Flash', 'NN'), ('suka', 'VBI'), ('memakan', 'VBT'), ('brokoli', 'NN')]\n",
      "[('Sopir', 'NNP'), ('mengemudi', 'VBT'), ('mendapatkan', 'VBT'), ('tekanan', 'NN'), ('penumpangnya', 'NN')]\n",
      "[('bertanding', 'VBI'), ('olahraga', 'NN'), ('memberikan', 'VBT'), ('ketegangan', 'NN'), ('meningkatkan', 'VBT'), ('tekanan', 'NN'), ('darah', 'NN'), ('penonton', 'NN')]\n",
      "[('Ibuku', 'NN'), ('menyarankan', 'VBT'), ('memakan', 'VBT'), ('brokoli', 'NN'), ('tekanan', 'NN'), ('darah', 'NN'), ('terkontrol', 'JJ')]\n"
     ]
    }
   ],
   "source": [
    "doc_tup = []\n",
    "for _ in doc_con:\n",
    "    tup = []\n",
    "    for w in _:\n",
    "        tup.append(nltk.tag.str2tuple(w))\n",
    "    doc_tup += [tup]\n",
    "\n",
    "for _ in doc_tup:\n",
    "    print(_)"
   ]
  },
  {
   "cell_type": "markdown",
   "metadata": {},
   "source": [
    "## Coba tagging setelah dihilangkan Cfunc (berbeda)"
   ]
  },
  {
   "cell_type": "code",
   "execution_count": 15,
   "metadata": {},
   "outputs": [
    {
     "name": "stdout",
     "output_type": "stream",
     "text": [
      "['Brokoli/NN', 'bagus/IN', 'dimakan/VBT', 'Adikku/NN', 'suka/VBI', 'makan/VBT', 'brokoli/NN', 'ibuku/NN']\n",
      "['Ibuku/NN', 'menghabiskan/VBT', 'banyak/JJ', 'waktu/NN', 'berkeliling/NN', 'melihat/VBT', 'adikku/NNP', 'latihan/NN', 'bisbol/NN']\n",
      "['ahli/NN', 'kesehatan/NN', 'menyarankan/VBT', 'mengemudi/VBT', 'menyebabkan/VBT', 'ketegangan/NN', 'tekanan/NN', 'darah/NN', 'meningkat/VBI']\n",
      "['sering/JJ', 'merasakan/VBT', 'tekanan/NN', 'tampil/NN', 'saat/NN', 'presentasi/NN', 'sekolah/NN']\n",
      "['Profesional/NNP', 'kesehatan/NN', 'mengatakan/VBI', 'brokoli/NN', 'baik/JJ', 'kesehatan/NN']\n",
      "['Teman/NN', 'seorang/NN', 'pemain/NN', 'bisbol/NN', 'pernah/NN', 'mendapatkan/VBT', 'juara/NN']\n",
      "['Pemain/NN', 'bisbol/NN', 'bernama/NN', 'Flash/NN', 'suka/VBI', 'memakan/VBT', 'brokoli/NN']\n",
      "['Sopir/NNP', 'mengemudi/VBT', 'mendapatkan/VBT', 'tekanan/NN', 'penumpangnya/NN']\n",
      "['bertanding/NN', 'olahraga/NN', 'memberikan/VBT', 'ketegangan/NN', 'meningkatkan/VBT', 'tekanan/NN', 'darah/NN', 'penonton/NN']\n",
      "['Ibuku/NN', 'menyarankan/VBT', 'memakan/VBT', 'brokoli/NN', 'tekanan/NN', 'darah/NN', 'terkontrol/JJ']\n"
     ]
    }
   ],
   "source": [
    "coba_tagged = []\n",
    "for doc in documents:\n",
    "    try:\n",
    "        init_tag()\n",
    "        join_token = []\n",
    "        \n",
    "        if len(doc) == 0: continue\n",
    "        strtag = \" \".join(doc).strip()\n",
    "        join_token.extend(mt.taggingStr(strtag))\n",
    "        coba_tagged += [join_token]\n",
    "    except:\n",
    "        print (\"Error Exception\")\n",
    "\n",
    "for _ in coba_tagged:\n",
    "    print (_)"
   ]
  },
  {
   "cell_type": "markdown",
   "metadata": {},
   "source": [
    "# LDA"
   ]
  },
  {
   "cell_type": "code",
   "execution_count": 16,
   "metadata": {},
   "outputs": [],
   "source": [
    "from lda.ldamodel import LdaModel"
   ]
  },
  {
   "cell_type": "code",
   "execution_count": 17,
   "metadata": {
    "collapsed": true
   },
   "outputs": [],
   "source": [
    "lda = LdaModel(documents, 4, 0.1, 0.1)"
   ]
  },
  {
   "cell_type": "code",
   "execution_count": 18,
   "metadata": {},
   "outputs": [
    {
     "name": "stdout",
     "output_type": "stream",
     "text": [
      "0 memakan 2\n",
      "0 bisbol 2\n",
      "0 Ibuku 2\n",
      "0 melihat 1\n",
      "0 bernama 1\n",
      "0 Flash 1\n",
      "0 brokoli 1\n",
      "0 meningkatkan 1\n",
      "0 Pemain 1\n",
      "0 waktu 1\n",
      "0 bagus 1\n",
      "0 menghabiskan 1\n",
      "0 adikku 1\n",
      "0 suka 1\n",
      "0 latihan 1\n",
      "1 tekanan 3\n",
      "1 darah 3\n",
      "1 ketegangan 2\n",
      "1 menyarankan 2\n",
      "1 meningkat 1\n",
      "1 olahraga 1\n",
      "1 bertanding 1\n",
      "1 memberikan 1\n",
      "1 penonton 1\n",
      "1 mengemudi 1\n",
      "1 kesehatan 1\n",
      "1 menyebabkan 1\n",
      "1 ahli 1\n",
      "1 terkontrol 1\n",
      "2 tekanan 2\n",
      "2 mendapatkan 2\n",
      "2 berkeliling 1\n",
      "2 presentasi 1\n",
      "2 Sopir 1\n",
      "2 penumpangnya 1\n",
      "2 banyak 1\n",
      "2 sering 1\n",
      "2 tampil 1\n",
      "2 merasakan 1\n",
      "2 saat 1\n",
      "2 sekolah 1\n",
      "3 brokoli 3\n",
      "3 kesehatan 2\n",
      "3 Brokoli 1\n",
      "3 suka 1\n",
      "3 makan 1\n",
      "3 ibuku 1\n",
      "3 mengemudi 1\n",
      "3 pernah 1\n",
      "3 bisbol 1\n",
      "3 dimakan 1\n",
      "3 Adikku 1\n",
      "3 Teman 1\n",
      "3 seorang 1\n",
      "3 pemain 1\n",
      "3 juara 1\n",
      "3 Profesional 1\n",
      "3 mengatakan 1\n",
      "3 baik 1\n"
     ]
    }
   ],
   "source": [
    "lda.print_topics()"
   ]
  },
  {
   "cell_type": "code",
   "execution_count": 19,
   "metadata": {},
   "outputs": [
    {
     "name": "stdout",
     "output_type": "stream",
     "text": [
      "['Brokoli', 'bagus', 'dimakan', 'Adikku', 'suka', 'makan', 'brokoli', 'ibuku']\n",
      "Topik 3:  7\n",
      "Topik 0:  1\n",
      "['Ibuku', 'menghabiskan', 'banyak', 'waktu', 'berkeliling', 'melihat', 'adikku', 'latihan', 'bisbol']\n",
      "Topik 0:  7\n",
      "Topik 2:  2\n",
      "['ahli', 'kesehatan', 'menyarankan', 'mengemudi', 'menyebabkan', 'ketegangan', 'tekanan', 'darah', 'meningkat']\n",
      "Topik 1:  9\n",
      "['sering', 'merasakan', 'tekanan', 'tampil', 'saat', 'presentasi', 'sekolah']\n",
      "Topik 2:  7\n",
      "['Profesional', 'kesehatan', 'mengatakan', 'brokoli', 'baik', 'kesehatan']\n",
      "Topik 3:  6\n",
      "['Teman', 'seorang', 'pemain', 'bisbol', 'pernah', 'mendapatkan', 'juara']\n",
      "Topik 3:  6\n",
      "Topik 2:  1\n",
      "['Pemain', 'bisbol', 'bernama', 'Flash', 'suka', 'memakan', 'brokoli']\n",
      "Topik 0:  6\n",
      "Topik 3:  1\n",
      "['Sopir', 'mengemudi', 'mendapatkan', 'tekanan', 'penumpangnya']\n",
      "Topik 2:  4\n",
      "Topik 3:  1\n",
      "['bertanding', 'olahraga', 'memberikan', 'ketegangan', 'meningkatkan', 'tekanan', 'darah', 'penonton']\n",
      "Topik 1:  7\n",
      "Topik 0:  1\n",
      "['Ibuku', 'menyarankan', 'memakan', 'brokoli', 'tekanan', 'darah', 'terkontrol']\n",
      "Topik 1:  4\n",
      "Topik 0:  3\n"
     ]
    }
   ],
   "source": [
    "lda.print_topics2()"
   ]
  },
  {
   "cell_type": "code",
   "execution_count": 20,
   "metadata": {
    "collapsed": true
   },
   "outputs": [],
   "source": [
    "vocab = {1: 'makan',\n",
    "         2: 'minum',\n",
    "         3: 'saya'}\n",
    "kk = {'Ccon': {'topic 0': {'VERB': [1, 2],\n",
    "                           'NOUN': [3, 'nasi'],\n",
    "                           'ADJ': ['pedas', 'manis']\n",
    "                          },\n",
    "               'topic 1': {'VERB': ['lari', 'jalan'],\n",
    "                           'NOUN': ['sepeda', 'roda'],\n",
    "                           'ADJ': ['pelan', 'cepat']\n",
    "                          },\n",
    "               'topic 2': {'VERB': ['tidur', 'pejam'],\n",
    "                           'NOUN': ['kasur', 'bantal'],\n",
    "                           'ADJ': ['nyenyak']\n",
    "                          }\n",
    "               },\n",
    "      'Cfunc': {'IN': ['di', 'ke'],\n",
    "                'MD': ['bisa', 'sanggup'],\n",
    "                'DT': ['ini', 'itu']\n",
    "               }\n",
    "     }"
   ]
  },
  {
   "cell_type": "code",
   "execution_count": 21,
   "metadata": {},
   "outputs": [
    {
     "name": "stdout",
     "output_type": "stream",
     "text": [
      "{'topic 0': defaultdict(<class 'list'>, {'VBT': ['meningkatkan', 'melihat', 'memakan', 'menghabiskan', 'bernama'], 'NN': ['brokoli', 'Ibuku', 'waktu', 'Pemain', 'bagus', 'latihan', 'Flash', 'bisbol'], 'NNP': ['adikku'], 'VBI': ['suka']}), 'topic 1': defaultdict(<class 'list'>, {'NN': ['darah', 'ahli', 'kesehatan', 'olahraga', 'tekanan', 'penonton', 'ketegangan'], 'VBT': ['menyebabkan', 'memberikan', 'mengemudi', 'menyarankan'], 'VBI': ['meningkat', 'bertanding'], 'JJ': ['terkontrol']}), 'topic 2': defaultdict(<class 'list'>, {'NN': ['penumpangnya', 'saat', 'tampil', 'sekolah', 'presentasi', 'tekanan', 'berkeliling'], 'VBT': ['mendapatkan', 'merasakan'], 'NNP': ['Sopir'], 'JJ': ['sering', 'banyak']}), 'topic 3': defaultdict(<class 'list'>, {'NN': ['brokoli', 'Brokoli', 'kesehatan', 'pemain', 'seorang', 'Teman', 'ibuku', 'Adikku', 'juara', 'pernah', 'bisbol'], 'VBI': ['suka', 'mengatakan'], 'VBT': ['mengemudi', 'dimakan', 'makan'], 'NNP': ['Profesional'], 'JJ': ['baik']})}\n"
     ]
    }
   ],
   "source": [
    "lda.insert_into_Ccon(Kelas[\"Ccon\"], doc_tup)"
   ]
  },
  {
   "cell_type": "code",
   "execution_count": 22,
   "metadata": {},
   "outputs": [
    {
     "name": "stdout",
     "output_type": "stream",
     "text": [
      "{'Ccon': {'topic 0': defaultdict(<class 'list'>, {'VBT': ['meningkatkan', 'melihat', 'memakan', 'menghabiskan', 'bernama'], 'NN': ['brokoli', 'Ibuku', 'waktu', 'Pemain', 'bagus', 'latihan', 'Flash', 'bisbol'], 'NNP': ['adikku'], 'VBI': ['suka']}), 'topic 1': defaultdict(<class 'list'>, {'NN': ['darah', 'ahli', 'kesehatan', 'olahraga', 'tekanan', 'penonton', 'ketegangan'], 'VBT': ['menyebabkan', 'memberikan', 'mengemudi', 'menyarankan'], 'VBI': ['meningkat', 'bertanding'], 'JJ': ['terkontrol']}), 'topic 2': defaultdict(<class 'list'>, {'NN': ['penumpangnya', 'saat', 'tampil', 'sekolah', 'presentasi', 'tekanan', 'berkeliling'], 'VBT': ['mendapatkan', 'merasakan'], 'NNP': ['Sopir'], 'JJ': ['sering', 'banyak']}), 'topic 3': defaultdict(<class 'list'>, {'NN': ['brokoli', 'Brokoli', 'kesehatan', 'pemain', 'seorang', 'Teman', 'ibuku', 'Adikku', 'juara', 'pernah', 'bisbol'], 'VBI': ['suka', 'mengatakan'], 'VBT': ['mengemudi', 'dimakan', 'makan'], 'NNP': ['Profesional'], 'JJ': ['baik']})}, 'Cfunc': defaultdict(<class 'list'>, {'IN': ['agar', 'seperti', 'untuk', 'di', 'dari'], '.': ['.'], ',': [','], 'CC': ['tetapi', 'dan'], 'NEG': ['taksi', 'tidak'], 'CDI': ['Beberapa'], 'SC': ['Saat', 'bahwa', 'yang'], 'MD': ['dapat', 'bisbol'], 'PRP': ['Saya', 'saya'], 'DT': ['itu', 'para'], 'RB': ['sangat']})}\n"
     ]
    }
   ],
   "source": [
    "print(Kelas)"
   ]
  },
  {
   "cell_type": "code",
   "execution_count": null,
   "metadata": {
    "collapsed": true
   },
   "outputs": [],
   "source": []
  }
 ],
 "metadata": {
  "kernelspec": {
   "display_name": "Python 3",
   "language": "python",
   "name": "python3"
  },
  "language_info": {
   "codemirror_mode": {
    "name": "ipython",
    "version": 3
   },
   "file_extension": ".py",
   "mimetype": "text/x-python",
   "name": "python",
   "nbconvert_exporter": "python",
   "pygments_lexer": "ipython3",
   "version": "3.6.1"
  }
 },
 "nbformat": 4,
 "nbformat_minor": 2
}
