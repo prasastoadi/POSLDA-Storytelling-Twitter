{
 "cells": [
  {
   "cell_type": "code",
   "execution_count": 2,
   "metadata": {
    "collapsed": true
   },
   "outputs": [],
   "source": [
    "# create sample documents\n",
    "doc_a = \"Brokoli bagus untuk dimakan. Adikku suka makan brokoli, tetapi ibuku tidak.\"\n",
    "doc_b = \"Ibuku menghabiskan banyak waktu berkeliling melihat latihan bisbol adikku.\"\n",
    "doc_c = \"Beberapa ahli kesehatan menyarankan bahwa mengemudi dapat menyebabkan ketegangan dan tekanan darah meningkat.\"\n",
    "doc_d = \"Saya sering merasakan tekanan untuk tampil baik saat presentasi di sekolah.\"\n",
    "doc_e = \"Profesional kesehatan mengatakan bahwa brokoli itu baik untuk kesehatan Anda.\"\n",
    "doc_f = \"Teman saya seorang pemain bisbol yang pernah mendapatkan juara.\"\n",
    "doc_g = \"Pemain bisbol yang bernama Flash itu sangat suka memakan brokoli.\"\n",
    "doc_h = \"Sopir yang mengemudi taksi itu mendapatkan tekanan dari penumpangnya.\"\n",
    "doc_i = \"Saat tanding, olahraga bisbol memberikan ketegangan dan meningkatkan tekanan darah para penonton.\"\n",
    "doc_j = \"Ibuku menyarankan saya untuk memakan brokoli agar tekanan darah terkontrol.\"\n",
    "\n",
    "# compile sample documents into a list\n",
    "doc_set = [doc_a, doc_b, doc_c, doc_d, doc_e, doc_f, doc_g, doc_h, doc_i, doc_j]"
   ]
  },
  {
   "cell_type": "markdown",
   "metadata": {},
   "source": [
    "# POS Tagging"
   ]
  },
  {
   "cell_type": "code",
   "execution_count": 3,
   "metadata": {
    "collapsed": true
   },
   "outputs": [],
   "source": [
    "# PYTHON 2.7\n",
    "import os\n",
    "from hmmtagger import MainTagger\n",
    "from tokenization import *\n",
    "\n",
    "mt = None"
   ]
  },
  {
   "cell_type": "code",
   "execution_count": 4,
   "metadata": {
    "collapsed": true
   },
   "outputs": [],
   "source": [
    "import pandas as pd\n",
    "import numpy as np"
   ]
  },
  {
   "cell_type": "markdown",
   "metadata": {},
   "source": [
    "## Daftar Tagging\n",
    "Berikut adalah daftar tagging berdasarkan jurnal **HMM Based Part-of-Speech Tagger for Bahasa Indonesia.** (Alfan Farizki & Ayu Purwarianti, 2010)"
   ]
  },
  {
   "cell_type": "code",
   "execution_count": 5,
   "metadata": {},
   "outputs": [
    {
     "data": {
      "text/html": [
       "<div>\n",
       "<style>\n",
       "    .dataframe thead tr:only-child th {\n",
       "        text-align: right;\n",
       "    }\n",
       "\n",
       "    .dataframe thead th {\n",
       "        text-align: left;\n",
       "    }\n",
       "\n",
       "    .dataframe tbody tr th {\n",
       "        vertical-align: top;\n",
       "    }\n",
       "</style>\n",
       "<table border=\"1\" class=\"dataframe\">\n",
       "  <thead>\n",
       "    <tr style=\"text-align: right;\">\n",
       "      <th></th>\n",
       "      <th>POS</th>\n",
       "      <th>POS Name</th>\n",
       "      <th>Example</th>\n",
       "    </tr>\n",
       "  </thead>\n",
       "  <tbody>\n",
       "    <tr>\n",
       "      <th>1</th>\n",
       "      <td>OP</td>\n",
       "      <td>Open Parenthesis</td>\n",
       "      <td>({[</td>\n",
       "    </tr>\n",
       "    <tr>\n",
       "      <th>2</th>\n",
       "      <td>CP</td>\n",
       "      <td>Close Parenthesis</td>\n",
       "      <td>)}]</td>\n",
       "    </tr>\n",
       "    <tr>\n",
       "      <th>3</th>\n",
       "      <td>GM</td>\n",
       "      <td>Slash</td>\n",
       "      <td>/</td>\n",
       "    </tr>\n",
       "    <tr>\n",
       "      <th>4</th>\n",
       "      <td>;</td>\n",
       "      <td>Semicolon</td>\n",
       "      <td>;</td>\n",
       "    </tr>\n",
       "    <tr>\n",
       "      <th>5</th>\n",
       "      <td>:</td>\n",
       "      <td>Colon</td>\n",
       "      <td>:</td>\n",
       "    </tr>\n",
       "    <tr>\n",
       "      <th>6</th>\n",
       "      <td>\"</td>\n",
       "      <td>Quotation</td>\n",
       "      <td>\"</td>\n",
       "    </tr>\n",
       "    <tr>\n",
       "      <th>7</th>\n",
       "      <td>.</td>\n",
       "      <td>Sentence Terminator</td>\n",
       "      <td>.!?</td>\n",
       "    </tr>\n",
       "    <tr>\n",
       "      <th>8</th>\n",
       "      <td>,</td>\n",
       "      <td>Comma</td>\n",
       "      <td>,</td>\n",
       "    </tr>\n",
       "    <tr>\n",
       "      <th>9</th>\n",
       "      <td>-</td>\n",
       "      <td>Dash</td>\n",
       "      <td>-</td>\n",
       "    </tr>\n",
       "    <tr>\n",
       "      <th>10</th>\n",
       "      <td>...</td>\n",
       "      <td>Ellipsis</td>\n",
       "      <td>...</td>\n",
       "    </tr>\n",
       "    <tr>\n",
       "      <th>11</th>\n",
       "      <td>JJ</td>\n",
       "      <td>Adjective</td>\n",
       "      <td>Kaya, Manis</td>\n",
       "    </tr>\n",
       "    <tr>\n",
       "      <th>12</th>\n",
       "      <td>RB</td>\n",
       "      <td>Adverb</td>\n",
       "      <td>Sementara, Nanti</td>\n",
       "    </tr>\n",
       "    <tr>\n",
       "      <th>13</th>\n",
       "      <td>NN</td>\n",
       "      <td>Common Noun</td>\n",
       "      <td>Mobil</td>\n",
       "    </tr>\n",
       "    <tr>\n",
       "      <th>14</th>\n",
       "      <td>NNP</td>\n",
       "      <td>Proper Noun</td>\n",
       "      <td>Bekasi, Indonesia</td>\n",
       "    </tr>\n",
       "    <tr>\n",
       "      <th>15</th>\n",
       "      <td>NNG</td>\n",
       "      <td>Genitive Noun</td>\n",
       "      <td>Bukunya</td>\n",
       "    </tr>\n",
       "    <tr>\n",
       "      <th>16</th>\n",
       "      <td>VBI</td>\n",
       "      <td>Intransitive Verb</td>\n",
       "      <td>Pergi</td>\n",
       "    </tr>\n",
       "    <tr>\n",
       "      <th>17</th>\n",
       "      <td>VBT</td>\n",
       "      <td>Transitive Verb</td>\n",
       "      <td>Membeli</td>\n",
       "    </tr>\n",
       "    <tr>\n",
       "      <th>18</th>\n",
       "      <td>IN</td>\n",
       "      <td>Preposition</td>\n",
       "      <td>Di, Ke, Dari</td>\n",
       "    </tr>\n",
       "    <tr>\n",
       "      <th>19</th>\n",
       "      <td>MD</td>\n",
       "      <td>Modal</td>\n",
       "      <td>Bisa</td>\n",
       "    </tr>\n",
       "    <tr>\n",
       "      <th>20</th>\n",
       "      <td>CC</td>\n",
       "      <td>Coor-Conjuction</td>\n",
       "      <td>Dan, Atau, Tetapi</td>\n",
       "    </tr>\n",
       "    <tr>\n",
       "      <th>21</th>\n",
       "      <td>SC</td>\n",
       "      <td>Subor-Conjunction</td>\n",
       "      <td>Jika, Ketika</td>\n",
       "    </tr>\n",
       "    <tr>\n",
       "      <th>22</th>\n",
       "      <td>DT</td>\n",
       "      <td>Determiner</td>\n",
       "      <td>Para, Ini, Itu</td>\n",
       "    </tr>\n",
       "    <tr>\n",
       "      <th>23</th>\n",
       "      <td>UH</td>\n",
       "      <td>Interjection</td>\n",
       "      <td>Wah, Aduh, Oi</td>\n",
       "    </tr>\n",
       "    <tr>\n",
       "      <th>24</th>\n",
       "      <td>CDO</td>\n",
       "      <td>Ordinal Numerals</td>\n",
       "      <td>Pertama, Kedua</td>\n",
       "    </tr>\n",
       "    <tr>\n",
       "      <th>25</th>\n",
       "      <td>CDC</td>\n",
       "      <td>Collective Numerals</td>\n",
       "      <td>Bertiga</td>\n",
       "    </tr>\n",
       "    <tr>\n",
       "      <th>26</th>\n",
       "      <td>CDP</td>\n",
       "      <td>Primary Numerals</td>\n",
       "      <td>Satu, Dua</td>\n",
       "    </tr>\n",
       "    <tr>\n",
       "      <th>27</th>\n",
       "      <td>CDI</td>\n",
       "      <td>Irregular Numerals</td>\n",
       "      <td>Beberapa</td>\n",
       "    </tr>\n",
       "    <tr>\n",
       "      <th>28</th>\n",
       "      <td>PRP</td>\n",
       "      <td>Personal Pronouns</td>\n",
       "      <td>Saya, Kamu</td>\n",
       "    </tr>\n",
       "    <tr>\n",
       "      <th>29</th>\n",
       "      <td>WP</td>\n",
       "      <td>WH-Pronouns</td>\n",
       "      <td>Apa, Siapa</td>\n",
       "    </tr>\n",
       "    <tr>\n",
       "      <th>30</th>\n",
       "      <td>PRN</td>\n",
       "      <td>Number Pronouns</td>\n",
       "      <td>Kedua-duanya</td>\n",
       "    </tr>\n",
       "    <tr>\n",
       "      <th>31</th>\n",
       "      <td>PRL</td>\n",
       "      <td>Locative Pronouns</td>\n",
       "      <td>Sini, Situ, Sana</td>\n",
       "    </tr>\n",
       "    <tr>\n",
       "      <th>32</th>\n",
       "      <td>NEG</td>\n",
       "      <td>Negation</td>\n",
       "      <td>Bukan, Tidak</td>\n",
       "    </tr>\n",
       "    <tr>\n",
       "      <th>33</th>\n",
       "      <td>SYM</td>\n",
       "      <td>Symbol</td>\n",
       "      <td>@#$%^&amp;</td>\n",
       "    </tr>\n",
       "    <tr>\n",
       "      <th>34</th>\n",
       "      <td>RP</td>\n",
       "      <td>Particles</td>\n",
       "      <td>Pun, Kah</td>\n",
       "    </tr>\n",
       "    <tr>\n",
       "      <th>35</th>\n",
       "      <td>FW</td>\n",
       "      <td>Foreign Word</td>\n",
       "      <td>Foreign, Word</td>\n",
       "    </tr>\n",
       "  </tbody>\n",
       "</table>\n",
       "</div>"
      ],
      "text/plain": [
       "    POS             POS Name            Example\n",
       "1    OP     Open Parenthesis                ({[\n",
       "2    CP    Close Parenthesis                )}]\n",
       "3    GM                Slash                  /\n",
       "4     ;            Semicolon                  ;\n",
       "5     :                Colon                  :\n",
       "6     \"            Quotation                  \"\n",
       "7     .  Sentence Terminator                .!?\n",
       "8     ,                Comma                  ,\n",
       "9     -                 Dash                  -\n",
       "10  ...             Ellipsis                ...\n",
       "11   JJ            Adjective        Kaya, Manis\n",
       "12   RB               Adverb   Sementara, Nanti\n",
       "13   NN          Common Noun              Mobil\n",
       "14  NNP          Proper Noun  Bekasi, Indonesia\n",
       "15  NNG        Genitive Noun            Bukunya\n",
       "16  VBI    Intransitive Verb              Pergi\n",
       "17  VBT      Transitive Verb            Membeli\n",
       "18   IN          Preposition       Di, Ke, Dari\n",
       "19   MD                Modal               Bisa\n",
       "20   CC      Coor-Conjuction  Dan, Atau, Tetapi\n",
       "21   SC    Subor-Conjunction       Jika, Ketika\n",
       "22   DT           Determiner     Para, Ini, Itu\n",
       "23   UH         Interjection      Wah, Aduh, Oi\n",
       "24  CDO     Ordinal Numerals     Pertama, Kedua\n",
       "25  CDC  Collective Numerals            Bertiga\n",
       "26  CDP     Primary Numerals          Satu, Dua\n",
       "27  CDI   Irregular Numerals           Beberapa\n",
       "28  PRP    Personal Pronouns         Saya, Kamu\n",
       "29   WP          WH-Pronouns         Apa, Siapa\n",
       "30  PRN      Number Pronouns       Kedua-duanya\n",
       "31  PRL    Locative Pronouns   Sini, Situ, Sana\n",
       "32  NEG             Negation       Bukan, Tidak\n",
       "33  SYM               Symbol             @#$%^&\n",
       "34   RP            Particles           Pun, Kah\n",
       "35   FW         Foreign Word      Foreign, Word"
      ]
     },
     "execution_count": 5,
     "metadata": {},
     "output_type": "execute_result"
    }
   ],
   "source": [
    "# daftar tagging\n",
    "df = pd.DataFrame({'POS' : ['OP', 'CP', 'GM', ';', ':', \n",
    "                            '\"', '.', ',', '-', '...', \n",
    "                            'JJ', 'RB', 'NN', 'NNP','NNG', \n",
    "                            'VBI', 'VBT', 'IN', 'MD', 'CC', \n",
    "                            'SC', 'DT', 'UH', 'CDO', 'CDC', \n",
    "                            'CDP', 'CDI', 'PRP', 'WP', 'PRN', \n",
    "                            'PRL', 'NEG', 'SYM', 'RP', 'FW'],\n",
    "                   'POS Name' : ['Open Parenthesis', 'Close Parenthesis', 'Slash', 'Semicolon', 'Colon', \n",
    "                                 'Quotation', 'Sentence Terminator', 'Comma', 'Dash', 'Ellipsis', \n",
    "                                 'Adjective', 'Adverb', 'Common Noun', 'Proper Noun', 'Genitive Noun', \n",
    "                                 'Intransitive Verb', 'Transitive Verb', 'Preposition', 'Modal', 'Coor-Conjuction', \n",
    "                                 'Subor-Conjunction', 'Determiner', 'Interjection', 'Ordinal Numerals', 'Collective Numerals', \n",
    "                                 'Primary Numerals', 'Irregular Numerals', 'Personal Pronouns', 'WH-Pronouns', 'Number Pronouns',\n",
    "                                 'Locative Pronouns', 'Negation', 'Symbol', 'Particles', 'Foreign Word'],\n",
    "                   'Example' : ['({[', ')}]', '/', ';', ':',\n",
    "                                '\"', '.!?', ',', '-', '...',\n",
    "                                'Kaya, Manis', 'Sementara, Nanti', 'Mobil', 'Bekasi, Indonesia', 'Bukunya',\n",
    "                                'Pergi', 'Membeli', 'Di, Ke, Dari', 'Bisa', 'Dan, Atau, Tetapi',\n",
    "                                'Jika, Ketika', 'Para, Ini, Itu', 'Wah, Aduh, Oi', 'Pertama, Kedua', 'Bertiga',\n",
    "                                'Satu, Dua', 'Beberapa', 'Saya, Kamu', 'Apa, Siapa', 'Kedua-duanya',\n",
    "                                'Sini, Situ, Sana', 'Bukan, Tidak', '@#$%^&', 'Pun, Kah', 'Foreign, Word']})\n",
    "\n",
    "df = df[['POS', 'POS Name', 'Example']]\n",
    "df.index = np.arange(1, len(df) + 1)\n",
    "df"
   ]
  },
  {
   "cell_type": "markdown",
   "metadata": {},
   "source": [
    "## Pembagian Tagging\n",
    "Dibagi menjadi 2 yaitu **Class Content** dan **Class Function**.\n",
    "\n",
    "**Class Content:**\n",
    "1. JJ = Adjective\n",
    "2. NN = Common Noun\n",
    "3. NNP = Proper Noun\n",
    "4. NNG = Genitive Noun\n",
    "5. VBI = Intransitive Verb\n",
    "6. VBT = Transitive Verb\n",
    "7. FW = Foreign Word\n",
    "\n",
    "\n",
    "**Class Function:**\n",
    "1. OP = Open Parenthesis\n",
    "2. CP = Close Parenthesis\n",
    "3. GM = Slash\n",
    "4. ; = Semicolon\n",
    "5. : = Colon\n",
    "6. \" = Quotation\n",
    "7. . = Sentence Terminator\n",
    "8. , = Comma\n",
    "9. '-' = Dash\n",
    "10. ... = Ellipsis\n",
    "11. RB = Adverb\n",
    "12. IN = Preposition\n",
    "13. MD = Modal\n",
    "14. CC = Coor-Conjunction\n",
    "15. SC = Subor-Conjunction\n",
    "16. DT = Determiner\n",
    "17. UH = Interjection\n",
    "18. CDO = Ordinal Numerals\n",
    "19. CDC = Collective Numerals\n",
    "20. CDP = Primary Numerals\n",
    "21. CDI = Irregular Numerals\n",
    "22. PRP = Personal Pronouns\n",
    "23. WP = WH-Pronouns\n",
    "24. PRN = Number Pronouns\n",
    "25. PRL = Locative Pronouns\n",
    "26. NEG = Negation\n",
    "27. SYM = Symbol\n",
    "28. RP = Particles"
   ]
  },
  {
   "cell_type": "code",
   "execution_count": 6,
   "metadata": {
    "collapsed": true
   },
   "outputs": [],
   "source": [
    "Ccon = ['JJ', 'NN','NNP', 'NNG', 'VBI', 'VBT', 'FW']\n",
    "Cfunc = ['OP', 'CP', 'GM', ';', ':', '\"', '.', \n",
    "         ',', '-', '...', 'RB', 'IN', 'MD', 'CC',\n",
    "         'SC', 'DT', 'UH', 'CDO', 'CDC', 'CDP', 'CDI',\n",
    "         'PRP', 'WP', 'PRN', 'PRL', 'NEG', 'SYM', 'RP']"
   ]
  },
  {
   "cell_type": "code",
   "execution_count": 7,
   "metadata": {
    "collapsed": true
   },
   "outputs": [],
   "source": [
    "\"\"\"\n",
    "Parameters:\n",
    "    String fileLexicon\n",
    "    String fileNGram\n",
    "    int NGramType = 0\n",
    "    int maxAffixLength = 3\n",
    "    int Treshold = 3\n",
    "    int minWordFreq = 0\n",
    "    int modeAffixTree = 0\n",
    "    boolean debug = False\n",
    "    double LambdaBigram = 0.2\n",
    "    int TwoPhaseType = 0\n",
    "    double beamFactor = 500.0\n",
    "    int useLexicon = 0\n",
    "\"\"\"\n",
    "\n",
    "def init_tag():\n",
    "    global mt\n",
    "    if mt is None:\n",
    "        mt = MainTagger(\"resource/Lexicon.trn\", \"resource/Ngram.trn\", 0, 3, 3, 0, 0, False, 0.2, 0, 500.0, 1)"
   ]
  },
  {
   "cell_type": "markdown",
   "metadata": {},
   "source": [
    "## Proses Tagging"
   ]
  },
  {
   "cell_type": "code",
   "execution_count": null,
   "metadata": {
    "collapsed": true
   },
   "outputs": [],
   "source": [
    "def do_tag(documents):\n",
    "#     lines = text.strip().split(\"\\n\")\n",
    "    for doc in documents:\n",
    "        result = []\n",
    "        try:\n",
    "            init_tag()\n",
    "            for l in lines:\n",
    "                if len(l) == 0: continue\n",
    "                out = sentence_extraction(cleaning(l))\n",
    "                for o in out:\n",
    "                    strtag = \" \".join(tokenisasi_kalimat(o)).strip()\n",
    "                    result += [\" \".join(mt.taggingStr(strtag))]\n",
    "        except:\n",
    "            return \"Error Exception\"\n",
    "    return \"\\n\".join(result)"
   ]
  },
  {
   "cell_type": "markdown",
   "metadata": {},
   "source": [
    "# LDA"
   ]
  },
  {
   "cell_type": "code",
   "execution_count": null,
   "metadata": {
    "collapsed": true
   },
   "outputs": [],
   "source": [
    "def sample_from(weights):\n",
    "    \"\"\"returns i with probability weights[i] / sum(weights)\"\"\"\n",
    "    total = sum(weights)\n",
    "    rnd = total * random.random()     # uniform between 0 and total\n",
    "    for i, w in enumerate(weights):\n",
    "        rnd -= w                      # return the smallest i such that\n",
    "        if rnd <= 0: return i         # weights[0] + ... + weights[i] >= rnd"
   ]
  },
  {
   "cell_type": "code",
   "execution_count": null,
   "metadata": {
    "collapsed": true
   },
   "outputs": [],
   "source": [
    "from collections import Counter"
   ]
  },
  {
   "cell_type": "code",
   "execution_count": null,
   "metadata": {
    "collapsed": true
   },
   "outputs": [],
   "source": [
    "K = 5"
   ]
  },
  {
   "cell_type": "code",
   "execution_count": null,
   "metadata": {
    "collapsed": true
   },
   "outputs": [],
   "source": [
    "# a list of Counters, one for each document\n",
    "document_topic_counts = [Counter() for _ in documents]"
   ]
  },
  {
   "cell_type": "code",
   "execution_count": null,
   "metadata": {
    "collapsed": true
   },
   "outputs": [],
   "source": [
    "# a list of Counters, one for each topic\n",
    "topic_word_counts = [Counter() for _ in range(K)]"
   ]
  },
  {
   "cell_type": "code",
   "execution_count": null,
   "metadata": {
    "collapsed": true
   },
   "outputs": [],
   "source": [
    "# a list of numbers, one for each topic\n",
    "topic_counts = [0 for _ in range(K)]"
   ]
  },
  {
   "cell_type": "code",
   "execution_count": null,
   "metadata": {
    "collapsed": true
   },
   "outputs": [],
   "source": [
    "# a list of numbers, one for each documents\n",
    "document_lengths = [len(d) for d in documents]"
   ]
  },
  {
   "cell_type": "code",
   "execution_count": null,
   "metadata": {
    "collapsed": true
   },
   "outputs": [],
   "source": [
    "# the number of distinct words\n",
    "distinct_words = set(word for document in documents for word in document)\n",
    "W = len(distinct_words)"
   ]
  },
  {
   "cell_type": "code",
   "execution_count": null,
   "metadata": {
    "collapsed": true
   },
   "outputs": [],
   "source": [
    "# the number of documents\n",
    "D = len(documents)"
   ]
  },
  {
   "cell_type": "code",
   "execution_count": null,
   "metadata": {
    "collapsed": true
   },
   "outputs": [],
   "source": [
    "def p_topic_given_document(topic, d, alpha=0.1):\n",
    "    \"\"\"the fraction of words in document _d_\n",
    "    that are assigned to _topic_ (plus some smoothing)\"\"\"\n",
    "    \n",
    "    return ((document_topic_counts[d][topic] + alpha) /\n",
    "            (document_lengths[d] + K * alpha))"
   ]
  },
  {
   "cell_type": "code",
   "execution_count": null,
   "metadata": {
    "collapsed": true
   },
   "outputs": [],
   "source": [
    "def p_word_given_topic(word, topic, beta=0.1):\n",
    "    \"\"\"the fration of words assigned to _topic_\n",
    "    that equal _word_ (plus some smoothing)\"\"\"\n",
    "    \n",
    "    return ((topic_word_counts[topic][word] + beta) /\n",
    "            (topic_counts[topic] + W * beta))"
   ]
  },
  {
   "cell_type": "code",
   "execution_count": null,
   "metadata": {
    "collapsed": true
   },
   "outputs": [],
   "source": [
    "def topic_weight(d, word, k):\n",
    "    \"\"\"given a document and a word in that document,\n",
    "    return the weight for the k-th topic\"\"\"\n",
    "    \n",
    "    return p_word_given_topic(word, k) * p_topic_given_document(k, d)\n",
    "\n",
    "def choose_new_topic(d, word):\n",
    "    return sample_from([topic_weight(d, word, k)\n",
    "                        for k in range(K)])"
   ]
  },
  {
   "cell_type": "code",
   "execution_count": null,
   "metadata": {
    "collapsed": true
   },
   "outputs": [],
   "source": [
    "import random"
   ]
  },
  {
   "cell_type": "code",
   "execution_count": null,
   "metadata": {
    "collapsed": true
   },
   "outputs": [],
   "source": [
    "random.seed(0)\n",
    "document_topics = [[random.randrange(K) for word in document]\n",
    "                   for document in documents]\n",
    "\n",
    "for d in range(D):\n",
    "    for word, topic, in zip(documents[d], document_topics[d]):\n",
    "        document_topic_counts[d][topic] += 1\n",
    "        topic_word_counts[topic][word] += 1\n",
    "        topic_counts[topic] += 1"
   ]
  },
  {
   "cell_type": "code",
   "execution_count": null,
   "metadata": {
    "collapsed": true
   },
   "outputs": [],
   "source": [
    "for iter in range(1000):\n",
    "    for d in range(D):\n",
    "        for i, (word, topic) in enumerate(zip(documents[d],\n",
    "                                              document_topics[d])):\n",
    "            \n",
    "            # remove this word / topic from counts\n",
    "            # so that it doesn't influence the weights\n",
    "            document_topic_counts[d][topic] -= 1\n",
    "            topic_word_counts[topic][word] -= 1\n",
    "            topic_counts[topic] -= 1\n",
    "            document_lengths[d] -= 1\n",
    "            \n",
    "            # choose a new topic based on the weights\n",
    "            new_topic = choose_new_topic(d, word)\n",
    "            document_topics[d][i] = new_topic\n",
    "            \n",
    "            # and now add it back to the counts\n",
    "            document_topic_counts[d][new_topic] += 1\n",
    "            topic_word_counts[new_topic][word] += 1\n",
    "            topic_counts[new_topic] += 1\n",
    "            document_lengths[d] += 1"
   ]
  },
  {
   "cell_type": "code",
   "execution_count": null,
   "metadata": {
    "collapsed": true
   },
   "outputs": [],
   "source": [
    "for k, word_counts in enumerate(topic_word_counts):\n",
    "    for word, count in word_counts.most_common():\n",
    "        if count > 0: print (k, word, count)"
   ]
  },
  {
   "cell_type": "code",
   "execution_count": null,
   "metadata": {
    "collapsed": true
   },
   "outputs": [],
   "source": [
    "topic_names = [\"kata sambung\",\n",
    "               \"kesehatan\",\n",
    "               \"juara dan prestasi\",\n",
    "               \"bisbol\",\n",
    "               \"makan brokoli\"]"
   ]
  },
  {
   "cell_type": "code",
   "execution_count": null,
   "metadata": {
    "collapsed": true
   },
   "outputs": [],
   "source": [
    "for document, topic_counts in zip(documents, document_topic_counts):\n",
    "    print(document)\n",
    "    for topic, count, in topic_counts.most_common():\n",
    "        if count > 0:\n",
    "            print(topic_names[topic], count)"
   ]
  },
  {
   "cell_type": "code",
   "execution_count": null,
   "metadata": {
    "collapsed": true
   },
   "outputs": [],
   "source": []
  }
 ],
 "metadata": {
  "kernelspec": {
   "display_name": "Python 2",
   "language": "python",
   "name": "python2"
  },
  "language_info": {
   "codemirror_mode": {
    "name": "ipython",
    "version": 2
   },
   "file_extension": ".py",
   "mimetype": "text/x-python",
   "name": "python",
   "nbconvert_exporter": "python",
   "pygments_lexer": "ipython2",
   "version": "2.7.13"
  }
 },
 "nbformat": 4,
 "nbformat_minor": 2
}
